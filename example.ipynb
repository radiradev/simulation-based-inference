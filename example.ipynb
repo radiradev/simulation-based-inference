{
  "cells": [
    {
      "cell_type": "code",
      "execution_count": null,
      "id": "31db8613",
      "metadata": {
        "id": "31db8613"
      },
      "outputs": [],
      "source": [
        "import jax.numpy as jnp\n",
        "import jax\n",
        "import matplotlib.pyplot as plt\n",
        "import numpy as np\n",
        "\n",
        "from jax import vmap, lax\n",
        "from flax import linen as nn\n",
        "from numba import jit\n",
        "import torch.utils.data as data\n",
        "from tqdm import tqdm\n",
        "\n",
        "#based on:\n",
        "#https://glouppe.github.io/ssi2023/?p=lecture-aissai.md#7"
      ]
    },
    {
      "cell_type": "code",
      "execution_count": null,
      "id": "c8d2912e",
      "metadata": {
        "id": "c8d2912e"
      },
      "outputs": [],
      "source": [
        "@jit\n",
        "def simulate(v, alpha, dt=0.001):\n",
        "    G = 9.18\n",
        "    v_x = v * np.cos(alpha)  # x velocity m/s\n",
        "    v_y = v * np.sin(alpha)  # y velocity m/s\n",
        "    y = 1.1 + 0.1 * np.random.normal()\n",
        "    x = 0.0\n",
        "    while y > 0: # simulate until ball hits floor\n",
        "        v_y += dt * -G  # acceleration due to gravity\n",
        "        x += dt * v_x\n",
        "        y += dt * v_y\n",
        "    return x + 0.1 * np.random.normal()\n",
        "\n",
        "def simulate_n(v, alpha, n):\n",
        "    out = [simulate(v, alpha) for _ in range(n)]\n",
        "    return np.array(out)\n",
        "\n",
        "def simulate_many(velocities, angles):\n",
        "  # can just vectorize instead\n",
        "  out = [simulate(v, alpha) for v, alpha in zip(velocities, angles)]\n",
        "  return np.array(out)\n",
        "\n",
        "test_length = int(10e5)\n",
        "alpha, v = 10.0, 10.0\n",
        "alphas, vs = np.full(test_length, alpha), np.full(test_length, v)\n"
      ]
    },
    {
      "cell_type": "code",
      "execution_count": null,
      "id": "69385e19",
      "metadata": {
        "colab": {
          "base_uri": "https://localhost:8080/"
        },
        "id": "69385e19",
        "outputId": "ce9d99c4-a05b-4707-ae4d-2ebb296d3561"
      },
      "outputs": [
        {
          "data": {
            "text/plain": [
              "(1024, 1)"
            ]
          },
          "execution_count": 3,
          "metadata": {},
          "output_type": "execute_result"
        }
      ],
      "source": [
        "import os\n",
        "os.environ['TF_CPP_MIN_LOG_LEVEL'] = str(0)\n",
        "\n",
        "class Classifier(nn.Module):\n",
        "    num_hidden : int   # Number of hidden neurons\n",
        "    num_outputs : int  # Number of output neurons\n",
        "\n",
        "    def setup(self):\n",
        "        # Create the modules we need to build the network\n",
        "        # nn.Dense is a linear layer\n",
        "        self.linear1 = nn.Dense(features=self.num_hidden)\n",
        "        self.linear2 = nn.Dense(features=self.num_hidden)\n",
        "        self.linear3 = nn.Dense(features=self.num_outputs)\n",
        "\n",
        "    def __call__(self, x):\n",
        "        # Perform the calculation of the model to determine the prediction\n",
        "        x = self.linear1(x)\n",
        "        x = nn.selu(x)\n",
        "        x = self.linear2(x)\n",
        "        x = nn.selu(x)\n",
        "        x = self.linear3(x)\n",
        "        return x\n",
        "\n",
        "model = Classifier(100, 1)\n",
        "rng = jax.random.PRNGKey(0)\n",
        "rng, inp_rng, init_rng = jax.random.split(rng, 3)\n",
        "input_size, batch_size = 3, 1024\n",
        "inp = jax.random.normal(inp_rng, (batch_size, input_size))\n",
        "# Initialize the model\n",
        "params = model.init(init_rng, inp)\n",
        "\n",
        "model.apply(params, inp).shape"
      ]
    },
    {
      "cell_type": "code",
      "execution_count": null,
      "id": "67f5ca7a",
      "metadata": {
        "id": "67f5ca7a"
      },
      "outputs": [],
      "source": [
        "class BallDataset(data.Dataset):\n",
        "    def __init__(self, size=int(10e5), velocity_range=(1.0, 10.0), angle_range=(-2.0, 2.0)):\n",
        "        super().__init__()\n",
        "        self.size = size\n",
        "        self.velocity_range = velocity_range\n",
        "        self.angle_range = angle_range\n",
        "        self.generate_data()\n",
        "\n",
        "    def generate_data(self):\n",
        "        # divide size by two so when we concat we get sample of shape (size,)\n",
        "\n",
        "        size = self.size // 2\n",
        "        velocities = np.random.uniform(*self.velocity_range, size=size)\n",
        "        angles = np.random.uniform(*self.angle_range, size=size)\n",
        "\n",
        "        positions = simulate_many(velocities, angles)\n",
        "        #for the joint distribution we just concat with the model parameters\n",
        "        joint_labels = np.ones(size)\n",
        "        joint = np.stack([velocities, angles, positions], axis=1)\n",
        "\n",
        "        #for the product of marginals we shuffle the model parameters\n",
        "        marginal_labels = np.zeros(size)\n",
        "        indices = np.random.permutation(np.arange(0, size))\n",
        "        product_of_marginals = np.stack([\n",
        "            velocities[indices],\n",
        "            angles[indices],\n",
        "            positions,\n",
        "        ],\n",
        "        axis=1)\n",
        "\n",
        "        self.data = np.vstack([joint, product_of_marginals])\n",
        "        self.labels = np.hstack([joint_labels, marginal_labels])\n",
        "\n",
        "\n",
        "    def __len__(self):\n",
        "        return self.size\n",
        "\n",
        "    def __getitem__(self, idx):\n",
        "        sample = self.data[idx]\n",
        "        label = self.labels[idx]\n",
        "\n",
        "        return sample, label\n",
        "\n",
        "def numpy_collate(batch):\n",
        "    if isinstance(batch[0], np.ndarray):\n",
        "        return np.stack(batch)\n",
        "    elif isinstance(batch[0], (tuple,list)):\n",
        "        transposed = zip(*batch)\n",
        "        return [numpy_collate(samples) for samples in transposed]\n",
        "    else:\n",
        "        return np.array(batch)\n",
        "\n",
        "\n",
        "dataset = BallDataset()\n",
        "data_loader = data.DataLoader(dataset, batch_size=1024, shuffle=True, collate_fn=numpy_collate)"
      ]
    },
    {
      "cell_type": "code",
      "execution_count": null,
      "id": "7acb00e4",
      "metadata": {
        "colab": {
          "base_uri": "https://localhost:8080/"
        },
        "id": "7acb00e4",
        "outputId": "d973589f-aed6-4a1f-e5af-c19b9f9cdf21"
      },
      "outputs": [
        {
          "data": {
            "text/plain": [
              "(Array(1.4164081, dtype=float32), Array(0.5253906, dtype=float32))"
            ]
          },
          "execution_count": 5,
          "metadata": {},
          "output_type": "execute_result"
        }
      ],
      "source": [
        "import optax\n",
        "optimizer = optax.sgd(learning_rate=0.1)\n",
        "from flax.training import train_state\n",
        "\n",
        "model_state = train_state.TrainState.create(apply_fn=model.apply,\n",
        "                                            params=params,\n",
        "                                            tx=optimizer)\n",
        "\n",
        "def calculate_loss_acc(state, params, batch):\n",
        "    data_input, labels = batch\n",
        "    # Obtain the logits and predictions of the model for the input data\n",
        "    logits = state.apply_fn(params, data_input).squeeze(axis=-1)\n",
        "    pred_labels = (logits > 0).astype(jnp.float32)\n",
        "    # Calculate the loss and accuracy\n",
        "    loss = optax.sigmoid_binary_cross_entropy(logits, labels).mean()\n",
        "    acc = (pred_labels == labels).mean()\n",
        "    return loss, acc\n",
        "\n",
        "batch = next(iter(data_loader))\n",
        "calculate_loss_acc(model_state, model_state.params, batch)"
      ]
    },
    {
      "cell_type": "code",
      "execution_count": null,
      "id": "a4e13381",
      "metadata": {
        "id": "a4e13381"
      },
      "outputs": [],
      "source": [
        "@jax.jit  # Jit the function for efficiency\n",
        "def train_step(state, batch):\n",
        "    # Gradient function\n",
        "    grad_fn = jax.value_and_grad(calculate_loss_acc,  # Function to calculate the loss\n",
        "                                 argnums=1,  # Parameters are second argument of the function\n",
        "                                 has_aux=True  # Function has additional outputs, here accuracy\n",
        "                                )\n",
        "    # Determine gradients for current model, parameters and batch\n",
        "    (loss, acc), grads = grad_fn(state, state.params, batch)\n",
        "    # Perform parameter update with gradients and optimizer\n",
        "    state = state.apply_gradients(grads=grads)\n",
        "    # Return state and any other value we might want\n",
        "    return state, loss, acc\n",
        "\n",
        "\n",
        "@jax.jit  # Jit the function for efficiency\n",
        "def eval_step(state, batch):\n",
        "    # Determine the accuracy\n",
        "    _, acc = calculate_loss_acc(state, state.params, batch)\n",
        "    return acc\n",
        "\n",
        "def train_model(state, data_loader, num_epochs=10):\n",
        "    # Training loop\n",
        "    for epoch in tqdm(range(num_epochs)):\n",
        "        for batch in data_loader:\n",
        "            state, loss, acc = train_step(state, batch)\n",
        "            # We could use the loss and accuracy for logging here, e.g. in TensorBoard\n",
        "            # For simplicity, we skip this part here\n",
        "    return state"
      ]
    },
    {
      "cell_type": "code",
      "execution_count": null,
      "id": "3d311167",
      "metadata": {
        "colab": {
          "base_uri": "https://localhost:8080/"
        },
        "id": "3d311167",
        "outputId": "68bda29e-15d1-48df-c945-e375cdc24a14"
      },
      "outputs": [
        {
          "name": "stderr",
          "output_type": "stream",
          "text": [
            "100%|██████████| 15/15 [02:00<00:00,  8.04s/it]\n"
          ]
        }
      ],
      "source": [
        "trained_model_state = train_model(model_state, data_loader, num_epochs=15)"
      ]
    },
    {
      "cell_type": "code",
      "execution_count": null,
      "id": "4ND9euKBFU5u",
      "metadata": {
        "colab": {
          "base_uri": "https://localhost:8080/"
        },
        "id": "4ND9euKBFU5u",
        "outputId": "b8db6e9b-c58d-4bfc-bd78-a64663c7b24b"
      },
      "outputs": [
        {
          "name": "stdout",
          "output_type": "stream",
          "text": [
            "Accuracy of the model: 91.92%\n"
          ]
        }
      ],
      "source": [
        "test_dataset = BallDataset(size=5000)\n",
        "# drop_last -> Don't drop the last batch although it is smaller than 128\n",
        "test_data_loader = data.DataLoader(test_dataset,\n",
        "                                   batch_size=128,\n",
        "                                   shuffle=False,\n",
        "                                   drop_last=False,\n",
        "                                   collate_fn=numpy_collate)\n",
        "def eval_model(state, data_loader):\n",
        "    all_accs, batch_sizes = [], []\n",
        "    for batch in data_loader:\n",
        "        batch_acc = eval_step(state, batch)\n",
        "        all_accs.append(batch_acc)\n",
        "        batch_sizes.append(batch[0].shape[0])\n",
        "    # Weighted average since some batches might be smaller\n",
        "    acc = sum([a*b for a,b in zip(all_accs, batch_sizes)]) / sum(batch_sizes)\n",
        "    print(f\"Accuracy of the model: {100.0*acc:4.2f}%\")\n",
        "\n",
        "# trained_model\n",
        "eval_model(trained_model_state, test_data_loader)"
      ]
    },
    {
      "cell_type": "code",
      "execution_count": null,
      "id": "VxKdIJPBNn9s",
      "metadata": {
        "id": "VxKdIJPBNn9s"
      },
      "outputs": [],
      "source": [
        "def create_meshgrid(dataset, size):\n",
        "  velocities = np.linspace(*dataset.velocity_range, size)\n",
        "  angles = np.linspace(*dataset.angle_range, size)\n",
        "  velocities, angles = np.meshgrid(velocities, angles)\n",
        "  return velocities, angles\n",
        "\n",
        "def evaluation_sample(position, size, dataset):\n",
        "  positions = np.full(int(size**2), position)\n",
        "  velocities, angles = create_meshgrid(dataset, size)\n",
        "  data = np.stack([velocities.flatten(), angles.flatten(), positions], axis=1)\n",
        "  return data\n"
      ]
    },
    {
      "cell_type": "code",
      "execution_count": null,
      "id": "0YDC54aCSMXF",
      "metadata": {
        "colab": {
          "base_uri": "https://localhost:8080/",
          "height": 466
        },
        "id": "0YDC54aCSMXF",
        "outputId": "a4b7ec63-f6a9-4a66-d03b-fd3b1cff7c39"
      },
      "outputs": [
        {
          "name": "stdout",
          "output_type": "stream",
          "text": [
            "2.0297374575508114\n"
          ]
        },
        {
          "data": {
            "text/plain": [
              "<matplotlib.lines.Line2D at 0x79237111ae60>"
            ]
          },
          "execution_count": 10,
          "metadata": {},
          "output_type": "execute_result"
        },
        {
          "data": {
            "image/png": "[encoded data removed]",
            "text/plain": [
              "<Figure size 640x480 with 1 Axes>"
            ]
          },
          "metadata": {},
          "output_type": "display_data"
        }
      ],
      "source": [
        "eval_grid = evaluation_sample(2.1, 1000, dataset)\n",
        "\n",
        "logits = trained_model_state.apply_fn(trained_model_state.params, eval_grid).squeeze(axis=-1)\n",
        "odds = jax.nn.sigmoid(logits) / (1 - jax.nn.sigmoid(logits))\n",
        "\n",
        "\n",
        "np.argmax(logits)\n",
        "inferred_v, inferred_angle, x = eval_grid[np.argmax(logits)]\n",
        "\n",
        "positions = simulate_n(inferred_v, inferred_angle, 100000)\n",
        "\n",
        "mean_x = np.mean(positions)\n",
        "print(mean_x)\n",
        "plt.hist(positions, bins=100)\n",
        "plt.axvline(mean_x, c='red')\n",
        "\n"
      ]
    },
    {
      "cell_type": "code",
      "execution_count": null,
      "id": "8uMJFEHJYWko",
      "metadata": {
        "colab": {
          "base_uri": "https://localhost:8080/",
          "height": 564
        },
        "id": "8uMJFEHJYWko",
        "outputId": "75111ac9-a6c5-43cc-c714-5195b9893d52"
      },
      "outputs": [
        {
          "data": {
            "image/png": "[encoded data removed]",
            "text/plain": [
              "<Figure size 800x600 with 1 Axes>"
            ]
          },
          "metadata": {},
          "output_type": "display_data"
        }
      ],
      "source": [
        "# Create meshgrid for plotting\n",
        "velocities, angles = create_meshgrid(dataset, 1000)\n",
        "\n",
        "# Create the contour plot\n",
        "plt.figure(figsize=(8, 6))\n",
        "cp = plt.contourf(velocities, angles, odds.reshape(1000, 1000), cmap='viridis')\n",
        "# plt.imshow(odds.reshape(100, 100), cmap='viridis')\n",
        "plt.title('Contour Plot of Positions')\n",
        "plt.xlabel('Velocity')\n",
        "plt.ylabel('Angle')\n",
        "plt.scatter(inferred_v, inferred_angle, s=300, color='red', marker='+')\n",
        "plt.show()\n"
      ]
    },
    {
      "cell_type": "code",
      "execution_count": null,
      "id": "CX2d0u45VMO5",
      "metadata": {
        "colab": {
          "base_uri": "https://localhost:8080/"
        },
        "id": "CX2d0u45VMO5",
        "outputId": "08d1dbae-fe0e-4c93-a2bc-9cfd5a4ef213"
      },
      "outputs": [
        {
          "data": {
            "text/plain": [
              "(4.5, 1.0)"
            ]
          },
          "execution_count": 328,
          "metadata": {},
          "output_type": "execute_result"
        }
      ],
      "source": [
        "true_v, true_alpha"
      ]
    }
  ],
  "metadata": {
    "@webio": {
      "lastCommId": null,
      "lastKernelId": null
    },
    "accelerator": "GPU",
    "colab": {
      "gpuType": "T4",
      "provenance": []
    },
    "kernelspec": {
      "display_name": "Python 3",
      "name": "python3"
    },
    "language_info": {
      "codemirror_mode": {
        "name": "ipython",
        "version": 3
      },
      "file_extension": ".py",
      "mimetype": "text/x-python",
      "name": "python",
      "nbconvert_exporter": "python",
      "pygments_lexer": "ipython3",
      "version": "3.9.12"
    }
  },
  "nbformat": 4,
  "nbformat_minor": 5
}
